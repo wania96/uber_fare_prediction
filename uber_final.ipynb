{
 "cells": [
  {
   "cell_type": "code",
   "execution_count": 101,
   "id": "c17531bb",
   "metadata": {},
   "outputs": [],
   "source": [
    "import numpy as np \n",
    "import pandas as pd\n",
    "import matplotlib.pyplot as plt\n",
    "import seaborn as sns\n",
    "from sklearn.ensemble import GradientBoostingRegressor\n",
    "from statsmodels.stats.outliers_influence import variance_inflation_factor\n",
    "from sklearn.preprocessing import StandardScaler\n",
    "from sklearn.model_selection import train_test_split\n",
    "from sklearn.linear_model import LinearRegression\n",
    "from sklearn import metrics\n",
    "from sklearn.metrics import r2_score\n",
    "from sklearn.ensemble import RandomForestRegressor\n",
    "\n",
    "from sklearn import metrics\n",
    "import warnings \n",
    "warnings.filterwarnings('ignore')"
   ]
  },
  {
   "cell_type": "markdown",
   "id": "f7cf5ee6",
   "metadata": {},
   "source": [
    "df=pd.read_csv(r\"C:\\Users\\HP\\Desktop\\New folder\\uber.csv\")"
   ]
  },
  {
   "cell_type": "code",
   "execution_count": 103,
   "id": "c25216bf",
   "metadata": {},
   "outputs": [
    {
     "data": {
      "text/html": [
       "<div>\n",
       "<style scoped>\n",
       "    .dataframe tbody tr th:only-of-type {\n",
       "        vertical-align: middle;\n",
       "    }\n",
       "\n",
       "    .dataframe tbody tr th {\n",
       "        vertical-align: top;\n",
       "    }\n",
       "\n",
       "    .dataframe thead th {\n",
       "        text-align: right;\n",
       "    }\n",
       "</style>\n",
       "<table border=\"1\" class=\"dataframe\">\n",
       "  <thead>\n",
       "    <tr style=\"text-align: right;\">\n",
       "      <th></th>\n",
       "      <th>Unnamed: 0</th>\n",
       "      <th>key</th>\n",
       "      <th>fare_amount</th>\n",
       "      <th>pickup_datetime</th>\n",
       "      <th>pickup_longitude</th>\n",
       "      <th>pickup_latitude</th>\n",
       "      <th>dropoff_longitude</th>\n",
       "      <th>dropoff_latitude</th>\n",
       "      <th>passenger_count</th>\n",
       "    </tr>\n",
       "  </thead>\n",
       "  <tbody>\n",
       "    <tr>\n",
       "      <th>0</th>\n",
       "      <td>24238194</td>\n",
       "      <td>2015-05-07 19:52:06.0000003</td>\n",
       "      <td>7.5</td>\n",
       "      <td>2015-05-07 19:52:06 UTC</td>\n",
       "      <td>-73.999817</td>\n",
       "      <td>40.738354</td>\n",
       "      <td>-73.999512</td>\n",
       "      <td>40.723217</td>\n",
       "      <td>1</td>\n",
       "    </tr>\n",
       "    <tr>\n",
       "      <th>1</th>\n",
       "      <td>27835199</td>\n",
       "      <td>2009-07-17 20:04:56.0000002</td>\n",
       "      <td>7.7</td>\n",
       "      <td>2009-07-17 20:04:56 UTC</td>\n",
       "      <td>-73.994355</td>\n",
       "      <td>40.728225</td>\n",
       "      <td>-73.994710</td>\n",
       "      <td>40.750325</td>\n",
       "      <td>1</td>\n",
       "    </tr>\n",
       "    <tr>\n",
       "      <th>2</th>\n",
       "      <td>44984355</td>\n",
       "      <td>2009-08-24 21:45:00.00000061</td>\n",
       "      <td>12.9</td>\n",
       "      <td>2009-08-24 21:45:00 UTC</td>\n",
       "      <td>-74.005043</td>\n",
       "      <td>40.740770</td>\n",
       "      <td>-73.962565</td>\n",
       "      <td>40.772647</td>\n",
       "      <td>1</td>\n",
       "    </tr>\n",
       "    <tr>\n",
       "      <th>3</th>\n",
       "      <td>25894730</td>\n",
       "      <td>2009-06-26 08:22:21.0000001</td>\n",
       "      <td>5.3</td>\n",
       "      <td>2009-06-26 08:22:21 UTC</td>\n",
       "      <td>-73.976124</td>\n",
       "      <td>40.790844</td>\n",
       "      <td>-73.965316</td>\n",
       "      <td>40.803349</td>\n",
       "      <td>3</td>\n",
       "    </tr>\n",
       "    <tr>\n",
       "      <th>4</th>\n",
       "      <td>17610152</td>\n",
       "      <td>2014-08-28 17:47:00.000000188</td>\n",
       "      <td>16.0</td>\n",
       "      <td>2014-08-28 17:47:00 UTC</td>\n",
       "      <td>-73.925023</td>\n",
       "      <td>40.744085</td>\n",
       "      <td>-73.973082</td>\n",
       "      <td>40.761247</td>\n",
       "      <td>5</td>\n",
       "    </tr>\n",
       "  </tbody>\n",
       "</table>\n",
       "</div>"
      ],
      "text/plain": [
       "   Unnamed: 0                            key  fare_amount  \\\n",
       "0    24238194    2015-05-07 19:52:06.0000003          7.5   \n",
       "1    27835199    2009-07-17 20:04:56.0000002          7.7   \n",
       "2    44984355   2009-08-24 21:45:00.00000061         12.9   \n",
       "3    25894730    2009-06-26 08:22:21.0000001          5.3   \n",
       "4    17610152  2014-08-28 17:47:00.000000188         16.0   \n",
       "\n",
       "           pickup_datetime  pickup_longitude  pickup_latitude  \\\n",
       "0  2015-05-07 19:52:06 UTC        -73.999817        40.738354   \n",
       "1  2009-07-17 20:04:56 UTC        -73.994355        40.728225   \n",
       "2  2009-08-24 21:45:00 UTC        -74.005043        40.740770   \n",
       "3  2009-06-26 08:22:21 UTC        -73.976124        40.790844   \n",
       "4  2014-08-28 17:47:00 UTC        -73.925023        40.744085   \n",
       "\n",
       "   dropoff_longitude  dropoff_latitude  passenger_count  \n",
       "0         -73.999512         40.723217                1  \n",
       "1         -73.994710         40.750325                1  \n",
       "2         -73.962565         40.772647                1  \n",
       "3         -73.965316         40.803349                3  \n",
       "4         -73.973082         40.761247                5  "
      ]
     },
     "execution_count": 103,
     "metadata": {},
     "output_type": "execute_result"
    }
   ],
   "source": [
    "df.head()"
   ]
  },
  {
   "cell_type": "code",
   "execution_count": 104,
   "id": "412b614f",
   "metadata": {},
   "outputs": [
    {
     "data": {
      "text/plain": [
       "Unnamed: 0           0\n",
       "key                  0\n",
       "fare_amount          0\n",
       "pickup_datetime      0\n",
       "pickup_longitude     0\n",
       "pickup_latitude      0\n",
       "dropoff_longitude    1\n",
       "dropoff_latitude     1\n",
       "passenger_count      0\n",
       "dtype: int64"
      ]
     },
     "execution_count": 104,
     "metadata": {},
     "output_type": "execute_result"
    }
   ],
   "source": [
    "df.isnull().sum()"
   ]
  },
  {
   "cell_type": "code",
   "execution_count": 105,
   "id": "ff6252d0",
   "metadata": {},
   "outputs": [],
   "source": [
    "df = df.drop(['Unnamed: 0','key'],axis=1)\n",
    "df.dropna(axis=0,inplace=True)"
   ]
  },
  {
   "cell_type": "code",
   "execution_count": 106,
   "id": "1ce231f7",
   "metadata": {},
   "outputs": [
    {
     "data": {
      "text/plain": [
       "fare_amount          0\n",
       "pickup_datetime      0\n",
       "pickup_longitude     0\n",
       "pickup_latitude      0\n",
       "dropoff_longitude    0\n",
       "dropoff_latitude     0\n",
       "passenger_count      0\n",
       "dtype: int64"
      ]
     },
     "execution_count": 106,
     "metadata": {},
     "output_type": "execute_result"
    }
   ],
   "source": [
    "df.isnull().sum()"
   ]
  },
  {
   "cell_type": "code",
   "execution_count": 107,
   "id": "a1837b79",
   "metadata": {},
   "outputs": [
    {
     "data": {
      "text/plain": [
       "fare_amount          float64\n",
       "pickup_datetime       object\n",
       "pickup_longitude     float64\n",
       "pickup_latitude      float64\n",
       "dropoff_longitude    float64\n",
       "dropoff_latitude     float64\n",
       "passenger_count        int64\n",
       "dtype: object"
      ]
     },
     "execution_count": 107,
     "metadata": {},
     "output_type": "execute_result"
    }
   ],
   "source": [
    "df.dtypes"
   ]
  },
  {
   "cell_type": "code",
   "execution_count": 108,
   "id": "95ead520",
   "metadata": {},
   "outputs": [],
   "source": [
    "import datetime\n",
    "df['pickup_datetime'] = pd.to_datetime(df['pickup_datetime'])"
   ]
  },
  {
   "cell_type": "code",
   "execution_count": 109,
   "id": "f30f038b",
   "metadata": {},
   "outputs": [],
   "source": [
    "df['Year'] = df['pickup_datetime'].apply(lambda time: time.year)\n",
    "df['Month'] = df['pickup_datetime'].apply(lambda time: time.month)\n",
    "df['Day'] = df['pickup_datetime'].apply(lambda time: time.day)\n",
    "df['Day_of_Week'] = df['pickup_datetime'].apply(lambda time: time.dayofweek)\n",
    "df['Day_of_Week_num'] = df['pickup_datetime'].apply(lambda time: time.dayofweek)\n",
    "df['Hour'] = df['pickup_datetime'].apply(lambda time: time.hour)"
   ]
  },
  {
   "cell_type": "code",
   "execution_count": 110,
   "id": "cb27f98b",
   "metadata": {},
   "outputs": [
    {
     "data": {
      "text/html": [
       "<div>\n",
       "<style scoped>\n",
       "    .dataframe tbody tr th:only-of-type {\n",
       "        vertical-align: middle;\n",
       "    }\n",
       "\n",
       "    .dataframe tbody tr th {\n",
       "        vertical-align: top;\n",
       "    }\n",
       "\n",
       "    .dataframe thead th {\n",
       "        text-align: right;\n",
       "    }\n",
       "</style>\n",
       "<table border=\"1\" class=\"dataframe\">\n",
       "  <thead>\n",
       "    <tr style=\"text-align: right;\">\n",
       "      <th></th>\n",
       "      <th>fare_amount</th>\n",
       "      <th>pickup_datetime</th>\n",
       "      <th>pickup_longitude</th>\n",
       "      <th>pickup_latitude</th>\n",
       "      <th>dropoff_longitude</th>\n",
       "      <th>dropoff_latitude</th>\n",
       "      <th>passenger_count</th>\n",
       "      <th>Year</th>\n",
       "      <th>Month</th>\n",
       "      <th>Day</th>\n",
       "      <th>Day_of_Week</th>\n",
       "      <th>Day_of_Week_num</th>\n",
       "      <th>Hour</th>\n",
       "    </tr>\n",
       "  </thead>\n",
       "  <tbody>\n",
       "    <tr>\n",
       "      <th>0</th>\n",
       "      <td>7.5</td>\n",
       "      <td>2015-05-07 19:52:06+00:00</td>\n",
       "      <td>-73.999817</td>\n",
       "      <td>40.738354</td>\n",
       "      <td>-73.999512</td>\n",
       "      <td>40.723217</td>\n",
       "      <td>1</td>\n",
       "      <td>2015</td>\n",
       "      <td>5</td>\n",
       "      <td>7</td>\n",
       "      <td>3</td>\n",
       "      <td>3</td>\n",
       "      <td>19</td>\n",
       "    </tr>\n",
       "    <tr>\n",
       "      <th>1</th>\n",
       "      <td>7.7</td>\n",
       "      <td>2009-07-17 20:04:56+00:00</td>\n",
       "      <td>-73.994355</td>\n",
       "      <td>40.728225</td>\n",
       "      <td>-73.994710</td>\n",
       "      <td>40.750325</td>\n",
       "      <td>1</td>\n",
       "      <td>2009</td>\n",
       "      <td>7</td>\n",
       "      <td>17</td>\n",
       "      <td>4</td>\n",
       "      <td>4</td>\n",
       "      <td>20</td>\n",
       "    </tr>\n",
       "    <tr>\n",
       "      <th>2</th>\n",
       "      <td>12.9</td>\n",
       "      <td>2009-08-24 21:45:00+00:00</td>\n",
       "      <td>-74.005043</td>\n",
       "      <td>40.740770</td>\n",
       "      <td>-73.962565</td>\n",
       "      <td>40.772647</td>\n",
       "      <td>1</td>\n",
       "      <td>2009</td>\n",
       "      <td>8</td>\n",
       "      <td>24</td>\n",
       "      <td>0</td>\n",
       "      <td>0</td>\n",
       "      <td>21</td>\n",
       "    </tr>\n",
       "    <tr>\n",
       "      <th>3</th>\n",
       "      <td>5.3</td>\n",
       "      <td>2009-06-26 08:22:21+00:00</td>\n",
       "      <td>-73.976124</td>\n",
       "      <td>40.790844</td>\n",
       "      <td>-73.965316</td>\n",
       "      <td>40.803349</td>\n",
       "      <td>3</td>\n",
       "      <td>2009</td>\n",
       "      <td>6</td>\n",
       "      <td>26</td>\n",
       "      <td>4</td>\n",
       "      <td>4</td>\n",
       "      <td>8</td>\n",
       "    </tr>\n",
       "    <tr>\n",
       "      <th>4</th>\n",
       "      <td>16.0</td>\n",
       "      <td>2014-08-28 17:47:00+00:00</td>\n",
       "      <td>-73.925023</td>\n",
       "      <td>40.744085</td>\n",
       "      <td>-73.973082</td>\n",
       "      <td>40.761247</td>\n",
       "      <td>5</td>\n",
       "      <td>2014</td>\n",
       "      <td>8</td>\n",
       "      <td>28</td>\n",
       "      <td>3</td>\n",
       "      <td>3</td>\n",
       "      <td>17</td>\n",
       "    </tr>\n",
       "  </tbody>\n",
       "</table>\n",
       "</div>"
      ],
      "text/plain": [
       "   fare_amount           pickup_datetime  pickup_longitude  pickup_latitude  \\\n",
       "0          7.5 2015-05-07 19:52:06+00:00        -73.999817        40.738354   \n",
       "1          7.7 2009-07-17 20:04:56+00:00        -73.994355        40.728225   \n",
       "2         12.9 2009-08-24 21:45:00+00:00        -74.005043        40.740770   \n",
       "3          5.3 2009-06-26 08:22:21+00:00        -73.976124        40.790844   \n",
       "4         16.0 2014-08-28 17:47:00+00:00        -73.925023        40.744085   \n",
       "\n",
       "   dropoff_longitude  dropoff_latitude  passenger_count  Year  Month  Day  \\\n",
       "0         -73.999512         40.723217                1  2015      5    7   \n",
       "1         -73.994710         40.750325                1  2009      7   17   \n",
       "2         -73.962565         40.772647                1  2009      8   24   \n",
       "3         -73.965316         40.803349                3  2009      6   26   \n",
       "4         -73.973082         40.761247                5  2014      8   28   \n",
       "\n",
       "   Day_of_Week  Day_of_Week_num  Hour  \n",
       "0            3                3    19  \n",
       "1            4                4    20  \n",
       "2            0                0    21  \n",
       "3            4                4     8  \n",
       "4            3                3    17  "
      ]
     },
     "execution_count": 110,
     "metadata": {},
     "output_type": "execute_result"
    }
   ],
   "source": [
    "df.head()"
   ]
  },
  {
   "cell_type": "code",
   "execution_count": 111,
   "id": "acf7a09c",
   "metadata": {},
   "outputs": [],
   "source": [
    "df['Day_of_Week']=np.where(df['Day_of_Week']==0,\"Mon\",np.where(df['Day_of_Week']==1,\"Tue\",np.where(df['Day_of_Week']==2,\"Wed\",np.where(df['Day_of_Week']==3,\"Thur\",np.where(df['Day_of_Week']==4,\"Fri\",np.where(df['Day_of_Week']==5,\"Sat\",\"Sun\"))))))"
   ]
  },
  {
   "cell_type": "code",
   "execution_count": 112,
   "id": "e1543e92",
   "metadata": {},
   "outputs": [],
   "source": [
    "def haversine (lon_1, lon_2, lat_1, lat_2):\n",
    "    \n",
    "    lon_1, lon_2, lat_1, lat_2 = map(np.radians, [lon_1, lon_2, lat_1, lat_2])  #Degrees to Radians\n",
    "    \n",
    "    \n",
    "    diff_lon = lon_2 - lon_1\n",
    "    diff_lat = lat_2 - lat_1\n",
    "    \n",
    "\n",
    "    km = 2 * 6371 * np.arcsin(np.sqrt(np.sin(diff_lat/2.0)**2 + \n",
    "                                      np.cos(lat_1) * np.cos(lat_2) * np.sin(diff_lon/2.0)**2))\n",
    "    \n",
    "    return km"
   ]
  },
  {
   "cell_type": "code",
   "execution_count": 113,
   "id": "a2010793",
   "metadata": {},
   "outputs": [],
   "source": [
    "df['Distance']= haversine(df['pickup_longitude'],df['dropoff_longitude'],\n",
    "                             df['pickup_latitude'],df['dropoff_latitude'])\n",
    "\n",
    "df['Distance'] = df['Distance'].astype(float)  "
   ]
  },
  {
   "cell_type": "code",
   "execution_count": 114,
   "id": "e561174e",
   "metadata": {},
   "outputs": [
    {
     "data": {
      "text/plain": [
       "Text(0.5, 1.0, 'Numwer of trips vs years')"
      ]
     },
     "execution_count": 114,
     "metadata": {},
     "output_type": "execute_result"
    },
    {
     "data": {
      "image/png": "[encoded data removed]",
      "text/plain": [
       "<Figure size 500x500 with 1 Axes>"
      ]
     },
     "metadata": {},
     "output_type": "display_data"
    }
   ],
   "source": [
    "years=df['Year'].value_counts()\n",
    "years.plot(kind='bar',figsize=(5,5))\n",
    "plt.xlabel('years')\n",
    "plt.ylabel('count')\n",
    "plt.title('Numwer of trips vs years')"
   ]
  },
  {
   "cell_type": "code",
   "execution_count": 67,
   "id": "7cc18e53",
   "metadata": {},
   "outputs": [
    {
     "data": {
      "text/plain": [
       "Text(0.5, 1.0, 'Numwer of trips vs hours')"
      ]
     },
     "execution_count": 67,
     "metadata": {},
     "output_type": "execute_result"
    },
    {
     "data": {
      "image/png": "[encoded data removed]",
      "text/plain": [
       "<Figure size 500x500 with 1 Axes>"
      ]
     },
     "metadata": {},
     "output_type": "display_data"
    }
   ],
   "source": [
    "hour=df['Hour'].value_counts()\n",
    "hour.plot(kind='bar',figsize=(5,5))\n",
    "plt.xlabel('hour')\n",
    "plt.ylabel('count')\n",
    "plt.title('Numwer of trips vs hours')"
   ]
  },
  {
   "cell_type": "code",
   "execution_count": 68,
   "id": "5e5aa067",
   "metadata": {},
   "outputs": [
    {
     "data": {
      "text/plain": [
       "Text(0.5, 1.0, 'Numwer of trips vs months')"
      ]
     },
     "execution_count": 68,
     "metadata": {},
     "output_type": "execute_result"
    },
    {
     "data": {
      "image/png": "[encoded data removed]",
      "text/plain": [
       "<Figure size 500x500 with 1 Axes>"
      ]
     },
     "metadata": {},
     "output_type": "display_data"
    }
   ],
   "source": [
    "month=df['Month'].value_counts()\n",
    "month.plot(kind='bar',figsize=(5,5))\n",
    "plt.xlabel('month')\n",
    "plt.ylabel('count')\n",
    "plt.title('Numwer of trips vs months')"
   ]
  },
  {
   "cell_type": "code",
   "execution_count": 69,
   "id": "b93b78db",
   "metadata": {},
   "outputs": [
    {
     "data": {
      "text/plain": [
       "Text(0.5, 1.0, 'Numwer of trips vs weekdays')"
      ]
     },
     "execution_count": 69,
     "metadata": {},
     "output_type": "execute_result"
    },
    {
     "data": {
      "image/png": "[encoded data removed]",
      "text/plain": [
       "<Figure size 500x500 with 1 Axes>"
      ]
     },
     "metadata": {},
     "output_type": "display_data"
    }
   ],
   "source": [
    "DayWeek=df['Day_of_Week'].value_counts()\n",
    "DayWeek.plot(kind='bar',figsize=(5,5))\n",
    "plt.xlabel('Day of Week')\n",
    "plt.ylabel('count')\n",
    "plt.title('Numwer of trips vs weekdays')"
   ]
  },
  {
   "cell_type": "code",
   "execution_count": 70,
   "id": "4f1eca35",
   "metadata": {},
   "outputs": [
    {
     "data": {
      "text/plain": [
       "Text(0.5, 1.0, 'fare vs distance')"
      ]
     },
     "execution_count": 70,
     "metadata": {},
     "output_type": "execute_result"
    },
    {
     "data": {
      "image/png": "[encoded data removed]",
      "text/plain": [
       "<Figure size 640x480 with 1 Axes>"
      ]
     },
     "metadata": {},
     "output_type": "display_data"
    }
   ],
   "source": [
    "plt.scatter(df['Distance'],df['fare_amount'])\n",
    "plt.xlabel('Distance in km')\n",
    "plt.ylabel('Fare')\n",
    "plt.title('fare vs distance')"
   ]
  },
  {
   "cell_type": "code",
   "execution_count": 115,
   "id": "132860ed",
   "metadata": {},
   "outputs": [
    {
     "data": {
      "text/plain": [
       "<AxesSubplot:xlabel='Distance', ylabel='fare_amount'>"
      ]
     },
     "execution_count": 115,
     "metadata": {},
     "output_type": "execute_result"
    },
    {
     "data": {
      "image/png": "[encoded data removed]",
      "text/plain": [
       "<Figure size 640x480 with 1 Axes>"
      ]
     },
     "metadata": {},
     "output_type": "display_data"
    }
   ],
   "source": [
    "table = pd.pivot_table(data=df,index=['passenger_count','Day_of_Week'],values=['Distance','fare_amount'])\n",
    "table\n",
    "sns.scatterplot(data=table, x=\"Distance\", y=\"fare_amount\", hue=\"Day_of_Week\")"
   ]
  },
  {
   "cell_type": "code",
   "execution_count": 116,
   "id": "199563c4",
   "metadata": {},
   "outputs": [
    {
     "data": {
      "text/html": [
       "<style type=\"text/css\">\n",
       "#T_7dbff_row0_col0, #T_7dbff_row1_col1, #T_7dbff_row2_col2, #T_7dbff_row3_col3, #T_7dbff_row4_col4, #T_7dbff_row5_col5, #T_7dbff_row6_col6, #T_7dbff_row7_col7, #T_7dbff_row8_col8, #T_7dbff_row9_col9, #T_7dbff_row10_col10, #T_7dbff_row11_col11 {\n",
       "  background-color: #00441b;\n",
       "  color: #f1f1f1;\n",
       "}\n",
       "#T_7dbff_row0_col1, #T_7dbff_row6_col1, #T_7dbff_row8_col1 {\n",
       "  background-color: #75c9af;\n",
       "  color: #000000;\n",
       "}\n",
       "#T_7dbff_row0_col2, #T_7dbff_row6_col2, #T_7dbff_row8_col2 {\n",
       "  background-color: #7dccb5;\n",
       "  color: #000000;\n",
       "}\n",
       "#T_7dbff_row0_col3, #T_7dbff_row6_col3, #T_7dbff_row8_col3 {\n",
       "  background-color: #6dc5a9;\n",
       "  color: #000000;\n",
       "}\n",
       "#T_7dbff_row0_col4, #T_7dbff_row6_col4 {\n",
       "  background-color: #72c7ad;\n",
       "  color: #000000;\n",
       "}\n",
       "#T_7dbff_row0_col5, #T_7dbff_row2_col8, #T_7dbff_row4_col0, #T_7dbff_row4_col8, #T_7dbff_row6_col5, #T_7dbff_row6_col8, #T_7dbff_row7_col5, #T_7dbff_row8_col5 {\n",
       "  background-color: #f6fcfd;\n",
       "  color: #000000;\n",
       "}\n",
       "#T_7dbff_row0_col6 {\n",
       "  background-color: #d4efec;\n",
       "  color: #000000;\n",
       "}\n",
       "#T_7dbff_row0_col7, #T_7dbff_row3_col11, #T_7dbff_row11_col6 {\n",
       "  background-color: #e5f5f9;\n",
       "  color: #000000;\n",
       "}\n",
       "#T_7dbff_row0_col8, #T_7dbff_row2_col1, #T_7dbff_row2_col11 {\n",
       "  background-color: #f5fbfc;\n",
       "  color: #000000;\n",
       "}\n",
       "#T_7dbff_row0_col9, #T_7dbff_row1_col10, #T_7dbff_row3_col10, #T_7dbff_row6_col9, #T_7dbff_row8_col7, #T_7dbff_row8_col9, #T_7dbff_row8_col10 {\n",
       "  background-color: #ebf7fa;\n",
       "  color: #000000;\n",
       "}\n",
       "#T_7dbff_row0_col10 {\n",
       "  background-color: #eff9fb;\n",
       "  color: #000000;\n",
       "}\n",
       "#T_7dbff_row0_col11, #T_7dbff_row1_col7, #T_7dbff_row2_col6, #T_7dbff_row3_col7, #T_7dbff_row4_col6, #T_7dbff_row6_col11, #T_7dbff_row9_col7, #T_7dbff_row10_col7 {\n",
       "  background-color: #e9f7fa;\n",
       "  color: #000000;\n",
       "}\n",
       "#T_7dbff_row1_col0, #T_7dbff_row3_col0, #T_7dbff_row5_col0, #T_7dbff_row9_col0 {\n",
       "  background-color: #f3fafc;\n",
       "  color: #000000;\n",
       "}\n",
       "#T_7dbff_row1_col2, #T_7dbff_row1_col5, #T_7dbff_row2_col5, #T_7dbff_row3_col4, #T_7dbff_row3_col5, #T_7dbff_row4_col1, #T_7dbff_row4_col3, #T_7dbff_row4_col5, #T_7dbff_row4_col11, #T_7dbff_row6_col7, #T_7dbff_row7_col6, #T_7dbff_row7_col8, #T_7dbff_row9_col10, #T_7dbff_row10_col0, #T_7dbff_row10_col9, #T_7dbff_row11_col5 {\n",
       "  background-color: #f7fcfd;\n",
       "  color: #000000;\n",
       "}\n",
       "#T_7dbff_row1_col3 {\n",
       "  background-color: #006027;\n",
       "  color: #f1f1f1;\n",
       "}\n",
       "#T_7dbff_row1_col4, #T_7dbff_row9_col5 {\n",
       "  background-color: #f2fafc;\n",
       "  color: #000000;\n",
       "}\n",
       "#T_7dbff_row1_col6, #T_7dbff_row3_col6, #T_7dbff_row5_col7, #T_7dbff_row5_col9 {\n",
       "  background-color: #e7f6f9;\n",
       "  color: #000000;\n",
       "}\n",
       "#T_7dbff_row1_col8, #T_7dbff_row3_col2, #T_7dbff_row3_col8, #T_7dbff_row5_col8, #T_7dbff_row8_col0, #T_7dbff_row9_col8, #T_7dbff_row10_col8 {\n",
       "  background-color: #f4fbfc;\n",
       "  color: #000000;\n",
       "}\n",
       "#T_7dbff_row1_col9, #T_7dbff_row3_col9, #T_7dbff_row6_col10, #T_7dbff_row11_col10 {\n",
       "  background-color: #ecf8fa;\n",
       "  color: #000000;\n",
       "}\n",
       "#T_7dbff_row1_col11 {\n",
       "  background-color: #dcf2f2;\n",
       "  color: #000000;\n",
       "}\n",
       "#T_7dbff_row2_col0, #T_7dbff_row10_col5, #T_7dbff_row11_col8 {\n",
       "  background-color: #f5fbfd;\n",
       "  color: #000000;\n",
       "}\n",
       "#T_7dbff_row2_col3, #T_7dbff_row5_col11, #T_7dbff_row7_col9, #T_7dbff_row7_col11, #T_7dbff_row8_col11, #T_7dbff_row9_col11, #T_7dbff_row10_col11 {\n",
       "  background-color: #edf8fb;\n",
       "  color: #000000;\n",
       "}\n",
       "#T_7dbff_row2_col4 {\n",
       "  background-color: #087432;\n",
       "  color: #f1f1f1;\n",
       "}\n",
       "#T_7dbff_row2_col7, #T_7dbff_row4_col7, #T_7dbff_row5_col6, #T_7dbff_row9_col6, #T_7dbff_row10_col6, #T_7dbff_row11_col7 {\n",
       "  background-color: #e8f6fa;\n",
       "  color: #000000;\n",
       "}\n",
       "#T_7dbff_row2_col9, #T_7dbff_row2_col10, #T_7dbff_row4_col9, #T_7dbff_row4_col10, #T_7dbff_row7_col10, #T_7dbff_row11_col9 {\n",
       "  background-color: #ecf8fb;\n",
       "  color: #000000;\n",
       "}\n",
       "#T_7dbff_row3_col1 {\n",
       "  background-color: #006227;\n",
       "  color: #f1f1f1;\n",
       "}\n",
       "#T_7dbff_row4_col2 {\n",
       "  background-color: #0a7633;\n",
       "  color: #f1f1f1;\n",
       "}\n",
       "#T_7dbff_row5_col1, #T_7dbff_row9_col1, #T_7dbff_row10_col1 {\n",
       "  background-color: #77c9b0;\n",
       "  color: #000000;\n",
       "}\n",
       "#T_7dbff_row5_col2, #T_7dbff_row9_col2, #T_7dbff_row10_col2 {\n",
       "  background-color: #7ccbb4;\n",
       "  color: #000000;\n",
       "}\n",
       "#T_7dbff_row5_col3, #T_7dbff_row5_col4, #T_7dbff_row7_col4, #T_7dbff_row9_col3, #T_7dbff_row9_col4, #T_7dbff_row10_col3, #T_7dbff_row10_col4 {\n",
       "  background-color: #6fc6aa;\n",
       "  color: #000000;\n",
       "}\n",
       "#T_7dbff_row5_col10, #T_7dbff_row8_col6 {\n",
       "  background-color: #eaf7fa;\n",
       "  color: #000000;\n",
       "}\n",
       "#T_7dbff_row6_col0 {\n",
       "  background-color: #e3f4f7;\n",
       "  color: #000000;\n",
       "}\n",
       "#T_7dbff_row7_col0, #T_7dbff_row11_col0 {\n",
       "  background-color: #f1fafc;\n",
       "  color: #000000;\n",
       "}\n",
       "#T_7dbff_row7_col1 {\n",
       "  background-color: #78cab1;\n",
       "  color: #000000;\n",
       "}\n",
       "#T_7dbff_row7_col2 {\n",
       "  background-color: #7acbb3;\n",
       "  color: #000000;\n",
       "}\n",
       "#T_7dbff_row7_col3, #T_7dbff_row8_col4 {\n",
       "  background-color: #70c6ac;\n",
       "  color: #000000;\n",
       "}\n",
       "#T_7dbff_row11_col1 {\n",
       "  background-color: #62c09f;\n",
       "  color: #000000;\n",
       "}\n",
       "#T_7dbff_row11_col2 {\n",
       "  background-color: #88d1bd;\n",
       "  color: #000000;\n",
       "}\n",
       "#T_7dbff_row11_col3 {\n",
       "  background-color: #63c0a0;\n",
       "  color: #000000;\n",
       "}\n",
       "#T_7dbff_row11_col4 {\n",
       "  background-color: #80cdb7;\n",
       "  color: #000000;\n",
       "}\n",
       "</style>\n",
       "<table id=\"T_7dbff\">\n",
       "  <thead>\n",
       "    <tr>\n",
       "      <th class=\"blank level0\" >&nbsp;</th>\n",
       "      <th id=\"T_7dbff_level0_col0\" class=\"col_heading level0 col0\" >fare_amount</th>\n",
       "      <th id=\"T_7dbff_level0_col1\" class=\"col_heading level0 col1\" >pickup_longitude</th>\n",
       "      <th id=\"T_7dbff_level0_col2\" class=\"col_heading level0 col2\" >pickup_latitude</th>\n",
       "      <th id=\"T_7dbff_level0_col3\" class=\"col_heading level0 col3\" >dropoff_longitude</th>\n",
       "      <th id=\"T_7dbff_level0_col4\" class=\"col_heading level0 col4\" >dropoff_latitude</th>\n",
       "      <th id=\"T_7dbff_level0_col5\" class=\"col_heading level0 col5\" >passenger_count</th>\n",
       "      <th id=\"T_7dbff_level0_col6\" class=\"col_heading level0 col6\" >Year</th>\n",
       "      <th id=\"T_7dbff_level0_col7\" class=\"col_heading level0 col7\" >Month</th>\n",
       "      <th id=\"T_7dbff_level0_col8\" class=\"col_heading level0 col8\" >Day</th>\n",
       "      <th id=\"T_7dbff_level0_col9\" class=\"col_heading level0 col9\" >Day_of_Week_num</th>\n",
       "      <th id=\"T_7dbff_level0_col10\" class=\"col_heading level0 col10\" >Hour</th>\n",
       "      <th id=\"T_7dbff_level0_col11\" class=\"col_heading level0 col11\" >Distance</th>\n",
       "    </tr>\n",
       "  </thead>\n",
       "  <tbody>\n",
       "    <tr>\n",
       "      <th id=\"T_7dbff_level0_row0\" class=\"row_heading level0 row0\" >fare_amount</th>\n",
       "      <td id=\"T_7dbff_row0_col0\" class=\"data row0 col0\" >1.000000</td>\n",
       "      <td id=\"T_7dbff_row0_col1\" class=\"data row0 col1\" >0.010458</td>\n",
       "      <td id=\"T_7dbff_row0_col2\" class=\"data row0 col2\" >-0.008482</td>\n",
       "      <td id=\"T_7dbff_row0_col3\" class=\"data row0 col3\" >0.008986</td>\n",
       "      <td id=\"T_7dbff_row0_col4\" class=\"data row0 col4\" >-0.011014</td>\n",
       "      <td id=\"T_7dbff_row0_col5\" class=\"data row0 col5\" >0.010158</td>\n",
       "      <td id=\"T_7dbff_row0_col6\" class=\"data row0 col6\" >0.118331</td>\n",
       "      <td id=\"T_7dbff_row0_col7\" class=\"data row0 col7\" >0.023813</td>\n",
       "      <td id=\"T_7dbff_row0_col8\" class=\"data row0 col8\" >0.001384</td>\n",
       "      <td id=\"T_7dbff_row0_col9\" class=\"data row0 col9\" >0.007508</td>\n",
       "      <td id=\"T_7dbff_row0_col10\" class=\"data row0 col10\" >-0.021463</td>\n",
       "      <td id=\"T_7dbff_row0_col11\" class=\"data row0 col11\" >0.024684</td>\n",
       "    </tr>\n",
       "    <tr>\n",
       "      <th id=\"T_7dbff_level0_row1\" class=\"row_heading level0 row1\" >pickup_longitude</th>\n",
       "      <td id=\"T_7dbff_row1_col0\" class=\"data row1 col0\" >0.010458</td>\n",
       "      <td id=\"T_7dbff_row1_col1\" class=\"data row1 col1\" >1.000000</td>\n",
       "      <td id=\"T_7dbff_row1_col2\" class=\"data row1 col2\" >-0.816461</td>\n",
       "      <td id=\"T_7dbff_row1_col3\" class=\"data row1 col3\" >0.833026</td>\n",
       "      <td id=\"T_7dbff_row1_col4\" class=\"data row1 col4\" >-0.846324</td>\n",
       "      <td id=\"T_7dbff_row1_col5\" class=\"data row1 col5\" >-0.000415</td>\n",
       "      <td id=\"T_7dbff_row1_col6\" class=\"data row1 col6\" >0.009966</td>\n",
       "      <td id=\"T_7dbff_row1_col7\" class=\"data row1 col7\" >-0.004665</td>\n",
       "      <td id=\"T_7dbff_row1_col8\" class=\"data row1 col8\" >0.005183</td>\n",
       "      <td id=\"T_7dbff_row1_col9\" class=\"data row1 col9\" >0.000825</td>\n",
       "      <td id=\"T_7dbff_row1_col10\" class=\"data row1 col10\" >0.002432</td>\n",
       "      <td id=\"T_7dbff_row1_col11\" class=\"data row1 col11\" >0.105581</td>\n",
       "    </tr>\n",
       "    <tr>\n",
       "      <th id=\"T_7dbff_level0_row2\" class=\"row_heading level0 row2\" >pickup_latitude</th>\n",
       "      <td id=\"T_7dbff_row2_col0\" class=\"data row2 col0\" >-0.008482</td>\n",
       "      <td id=\"T_7dbff_row2_col1\" class=\"data row2 col1\" >-0.816461</td>\n",
       "      <td id=\"T_7dbff_row2_col2\" class=\"data row2 col2\" >1.000000</td>\n",
       "      <td id=\"T_7dbff_row2_col3\" class=\"data row2 col3\" >-0.774787</td>\n",
       "      <td id=\"T_7dbff_row2_col4\" class=\"data row2 col4\" >0.702367</td>\n",
       "      <td id=\"T_7dbff_row2_col5\" class=\"data row2 col5\" >-0.001559</td>\n",
       "      <td id=\"T_7dbff_row2_col6\" class=\"data row2 col6\" >-0.010234</td>\n",
       "      <td id=\"T_7dbff_row2_col7\" class=\"data row2 col7\" >0.004625</td>\n",
       "      <td id=\"T_7dbff_row2_col8\" class=\"data row2 col8\" >-0.008263</td>\n",
       "      <td id=\"T_7dbff_row2_col9\" class=\"data row2 col9\" >-0.002454</td>\n",
       "      <td id=\"T_7dbff_row2_col10\" class=\"data row2 col10\" >-0.003821</td>\n",
       "      <td id=\"T_7dbff_row2_col11\" class=\"data row2 col11\" >-0.062436</td>\n",
       "    </tr>\n",
       "    <tr>\n",
       "      <th id=\"T_7dbff_level0_row3\" class=\"row_heading level0 row3\" >dropoff_longitude</th>\n",
       "      <td id=\"T_7dbff_row3_col0\" class=\"data row3 col0\" >0.008986</td>\n",
       "      <td id=\"T_7dbff_row3_col1\" class=\"data row3 col1\" >0.833026</td>\n",
       "      <td id=\"T_7dbff_row3_col2\" class=\"data row3 col2\" >-0.774787</td>\n",
       "      <td id=\"T_7dbff_row3_col3\" class=\"data row3 col3\" >1.000000</td>\n",
       "      <td id=\"T_7dbff_row3_col4\" class=\"data row3 col4\" >-0.917010</td>\n",
       "      <td id=\"T_7dbff_row3_col5\" class=\"data row3 col5\" >0.000033</td>\n",
       "      <td id=\"T_7dbff_row3_col6\" class=\"data row3 col6\" >0.008467</td>\n",
       "      <td id=\"T_7dbff_row3_col7\" class=\"data row3 col7\" >-0.003605</td>\n",
       "      <td id=\"T_7dbff_row3_col8\" class=\"data row3 col8\" >0.005055</td>\n",
       "      <td id=\"T_7dbff_row3_col9\" class=\"data row3 col9\" >0.000001</td>\n",
       "      <td id=\"T_7dbff_row3_col10\" class=\"data row3 col10\" >0.003478</td>\n",
       "      <td id=\"T_7dbff_row3_col11\" class=\"data row3 col11\" >0.056717</td>\n",
       "    </tr>\n",
       "    <tr>\n",
       "      <th id=\"T_7dbff_level0_row4\" class=\"row_heading level0 row4\" >dropoff_latitude</th>\n",
       "      <td id=\"T_7dbff_row4_col0\" class=\"data row4 col0\" >-0.011014</td>\n",
       "      <td id=\"T_7dbff_row4_col1\" class=\"data row4 col1\" >-0.846324</td>\n",
       "      <td id=\"T_7dbff_row4_col2\" class=\"data row4 col2\" >0.702367</td>\n",
       "      <td id=\"T_7dbff_row4_col3\" class=\"data row4 col3\" >-0.917010</td>\n",
       "      <td id=\"T_7dbff_row4_col4\" class=\"data row4 col4\" >1.000000</td>\n",
       "      <td id=\"T_7dbff_row4_col5\" class=\"data row4 col5\" >-0.000659</td>\n",
       "      <td id=\"T_7dbff_row4_col6\" class=\"data row4 col6\" >-0.011239</td>\n",
       "      <td id=\"T_7dbff_row4_col7\" class=\"data row4 col7\" >0.003818</td>\n",
       "      <td id=\"T_7dbff_row4_col8\" class=\"data row4 col8\" >-0.007835</td>\n",
       "      <td id=\"T_7dbff_row4_col9\" class=\"data row4 col9\" >-0.002335</td>\n",
       "      <td id=\"T_7dbff_row4_col10\" class=\"data row4 col10\" >-0.002544</td>\n",
       "      <td id=\"T_7dbff_row4_col11\" class=\"data row4 col11\" >-0.079944</td>\n",
       "    </tr>\n",
       "    <tr>\n",
       "      <th id=\"T_7dbff_level0_row5\" class=\"row_heading level0 row5\" >passenger_count</th>\n",
       "      <td id=\"T_7dbff_row5_col0\" class=\"data row5 col0\" >0.010158</td>\n",
       "      <td id=\"T_7dbff_row5_col1\" class=\"data row5 col1\" >-0.000415</td>\n",
       "      <td id=\"T_7dbff_row5_col2\" class=\"data row5 col2\" >-0.001559</td>\n",
       "      <td id=\"T_7dbff_row5_col3\" class=\"data row5 col3\" >0.000033</td>\n",
       "      <td id=\"T_7dbff_row5_col4\" class=\"data row5 col4\" >-0.000659</td>\n",
       "      <td id=\"T_7dbff_row5_col5\" class=\"data row5 col5\" >1.000000</td>\n",
       "      <td id=\"T_7dbff_row5_col6\" class=\"data row5 col6\" >0.004802</td>\n",
       "      <td id=\"T_7dbff_row5_col7\" class=\"data row5 col7\" >0.009774</td>\n",
       "      <td id=\"T_7dbff_row5_col8\" class=\"data row5 col8\" >0.003242</td>\n",
       "      <td id=\"T_7dbff_row5_col9\" class=\"data row5 col9\" >0.033189</td>\n",
       "      <td id=\"T_7dbff_row5_col10\" class=\"data row5 col10\" >0.013187</td>\n",
       "      <td id=\"T_7dbff_row5_col11\" class=\"data row5 col11\" >-0.001472</td>\n",
       "    </tr>\n",
       "    <tr>\n",
       "      <th id=\"T_7dbff_level0_row6\" class=\"row_heading level0 row6\" >Year</th>\n",
       "      <td id=\"T_7dbff_row6_col0\" class=\"data row6 col0\" >0.118331</td>\n",
       "      <td id=\"T_7dbff_row6_col1\" class=\"data row6 col1\" >0.009966</td>\n",
       "      <td id=\"T_7dbff_row6_col2\" class=\"data row6 col2\" >-0.010234</td>\n",
       "      <td id=\"T_7dbff_row6_col3\" class=\"data row6 col3\" >0.008467</td>\n",
       "      <td id=\"T_7dbff_row6_col4\" class=\"data row6 col4\" >-0.011239</td>\n",
       "      <td id=\"T_7dbff_row6_col5\" class=\"data row6 col5\" >0.004802</td>\n",
       "      <td id=\"T_7dbff_row6_col6\" class=\"data row6 col6\" >1.000000</td>\n",
       "      <td id=\"T_7dbff_row6_col7\" class=\"data row6 col7\" >-0.115860</td>\n",
       "      <td id=\"T_7dbff_row6_col8\" class=\"data row6 col8\" >-0.012165</td>\n",
       "      <td id=\"T_7dbff_row6_col9\" class=\"data row6 col9\" >0.006116</td>\n",
       "      <td id=\"T_7dbff_row6_col10\" class=\"data row6 col10\" >0.002162</td>\n",
       "      <td id=\"T_7dbff_row6_col11\" class=\"data row6 col11\" >0.026377</td>\n",
       "    </tr>\n",
       "    <tr>\n",
       "      <th id=\"T_7dbff_level0_row7\" class=\"row_heading level0 row7\" >Month</th>\n",
       "      <td id=\"T_7dbff_row7_col0\" class=\"data row7 col0\" >0.023813</td>\n",
       "      <td id=\"T_7dbff_row7_col1\" class=\"data row7 col1\" >-0.004665</td>\n",
       "      <td id=\"T_7dbff_row7_col2\" class=\"data row7 col2\" >0.004625</td>\n",
       "      <td id=\"T_7dbff_row7_col3\" class=\"data row7 col3\" >-0.003605</td>\n",
       "      <td id=\"T_7dbff_row7_col4\" class=\"data row7 col4\" >0.003818</td>\n",
       "      <td id=\"T_7dbff_row7_col5\" class=\"data row7 col5\" >0.009774</td>\n",
       "      <td id=\"T_7dbff_row7_col6\" class=\"data row7 col6\" >-0.115860</td>\n",
       "      <td id=\"T_7dbff_row7_col7\" class=\"data row7 col7\" >1.000000</td>\n",
       "      <td id=\"T_7dbff_row7_col8\" class=\"data row7 col8\" >-0.017358</td>\n",
       "      <td id=\"T_7dbff_row7_col9\" class=\"data row7 col9\" >-0.008785</td>\n",
       "      <td id=\"T_7dbff_row7_col10\" class=\"data row7 col10\" >-0.003924</td>\n",
       "      <td id=\"T_7dbff_row7_col11\" class=\"data row7 col11\" >-0.000633</td>\n",
       "    </tr>\n",
       "    <tr>\n",
       "      <th id=\"T_7dbff_level0_row8\" class=\"row_heading level0 row8\" >Day</th>\n",
       "      <td id=\"T_7dbff_row8_col0\" class=\"data row8 col0\" >0.001384</td>\n",
       "      <td id=\"T_7dbff_row8_col1\" class=\"data row8 col1\" >0.005183</td>\n",
       "      <td id=\"T_7dbff_row8_col2\" class=\"data row8 col2\" >-0.008263</td>\n",
       "      <td id=\"T_7dbff_row8_col3\" class=\"data row8 col3\" >0.005055</td>\n",
       "      <td id=\"T_7dbff_row8_col4\" class=\"data row8 col4\" >-0.007835</td>\n",
       "      <td id=\"T_7dbff_row8_col5\" class=\"data row8 col5\" >0.003242</td>\n",
       "      <td id=\"T_7dbff_row8_col6\" class=\"data row8 col6\" >-0.012165</td>\n",
       "      <td id=\"T_7dbff_row8_col7\" class=\"data row8 col7\" >-0.017358</td>\n",
       "      <td id=\"T_7dbff_row8_col8\" class=\"data row8 col8\" >1.000000</td>\n",
       "      <td id=\"T_7dbff_row8_col9\" class=\"data row8 col9\" >0.005609</td>\n",
       "      <td id=\"T_7dbff_row8_col10\" class=\"data row8 col10\" >0.004664</td>\n",
       "      <td id=\"T_7dbff_row8_col11\" class=\"data row8 col11\" >-0.002114</td>\n",
       "    </tr>\n",
       "    <tr>\n",
       "      <th id=\"T_7dbff_level0_row9\" class=\"row_heading level0 row9\" >Day_of_Week_num</th>\n",
       "      <td id=\"T_7dbff_row9_col0\" class=\"data row9 col0\" >0.007508</td>\n",
       "      <td id=\"T_7dbff_row9_col1\" class=\"data row9 col1\" >0.000825</td>\n",
       "      <td id=\"T_7dbff_row9_col2\" class=\"data row9 col2\" >-0.002454</td>\n",
       "      <td id=\"T_7dbff_row9_col3\" class=\"data row9 col3\" >0.000001</td>\n",
       "      <td id=\"T_7dbff_row9_col4\" class=\"data row9 col4\" >-0.002335</td>\n",
       "      <td id=\"T_7dbff_row9_col5\" class=\"data row9 col5\" >0.033189</td>\n",
       "      <td id=\"T_7dbff_row9_col6\" class=\"data row9 col6\" >0.006116</td>\n",
       "      <td id=\"T_7dbff_row9_col7\" class=\"data row9 col7\" >-0.008785</td>\n",
       "      <td id=\"T_7dbff_row9_col8\" class=\"data row9 col8\" >0.005609</td>\n",
       "      <td id=\"T_7dbff_row9_col9\" class=\"data row9 col9\" >1.000000</td>\n",
       "      <td id=\"T_7dbff_row9_col10\" class=\"data row9 col10\" >-0.086956</td>\n",
       "      <td id=\"T_7dbff_row9_col11\" class=\"data row9 col11\" >-0.004540</td>\n",
       "    </tr>\n",
       "    <tr>\n",
       "      <th id=\"T_7dbff_level0_row10\" class=\"row_heading level0 row10\" >Hour</th>\n",
       "      <td id=\"T_7dbff_row10_col0\" class=\"data row10 col0\" >-0.021463</td>\n",
       "      <td id=\"T_7dbff_row10_col1\" class=\"data row10 col1\" >0.002432</td>\n",
       "      <td id=\"T_7dbff_row10_col2\" class=\"data row10 col2\" >-0.003821</td>\n",
       "      <td id=\"T_7dbff_row10_col3\" class=\"data row10 col3\" >0.003478</td>\n",
       "      <td id=\"T_7dbff_row10_col4\" class=\"data row10 col4\" >-0.002544</td>\n",
       "      <td id=\"T_7dbff_row10_col5\" class=\"data row10 col5\" >0.013187</td>\n",
       "      <td id=\"T_7dbff_row10_col6\" class=\"data row10 col6\" >0.002162</td>\n",
       "      <td id=\"T_7dbff_row10_col7\" class=\"data row10 col7\" >-0.003924</td>\n",
       "      <td id=\"T_7dbff_row10_col8\" class=\"data row10 col8\" >0.004664</td>\n",
       "      <td id=\"T_7dbff_row10_col9\" class=\"data row10 col9\" >-0.086956</td>\n",
       "      <td id=\"T_7dbff_row10_col10\" class=\"data row10 col10\" >1.000000</td>\n",
       "      <td id=\"T_7dbff_row10_col11\" class=\"data row10 col11\" >-0.000638</td>\n",
       "    </tr>\n",
       "    <tr>\n",
       "      <th id=\"T_7dbff_level0_row11\" class=\"row_heading level0 row11\" >Distance</th>\n",
       "      <td id=\"T_7dbff_row11_col0\" class=\"data row11 col0\" >0.024684</td>\n",
       "      <td id=\"T_7dbff_row11_col1\" class=\"data row11 col1\" >0.105581</td>\n",
       "      <td id=\"T_7dbff_row11_col2\" class=\"data row11 col2\" >-0.062436</td>\n",
       "      <td id=\"T_7dbff_row11_col3\" class=\"data row11 col3\" >0.056717</td>\n",
       "      <td id=\"T_7dbff_row11_col4\" class=\"data row11 col4\" >-0.079944</td>\n",
       "      <td id=\"T_7dbff_row11_col5\" class=\"data row11 col5\" >-0.001472</td>\n",
       "      <td id=\"T_7dbff_row11_col6\" class=\"data row11 col6\" >0.026377</td>\n",
       "      <td id=\"T_7dbff_row11_col7\" class=\"data row11 col7\" >-0.000633</td>\n",
       "      <td id=\"T_7dbff_row11_col8\" class=\"data row11 col8\" >-0.002114</td>\n",
       "      <td id=\"T_7dbff_row11_col9\" class=\"data row11 col9\" >-0.004540</td>\n",
       "      <td id=\"T_7dbff_row11_col10\" class=\"data row11 col10\" >-0.000638</td>\n",
       "      <td id=\"T_7dbff_row11_col11\" class=\"data row11 col11\" >1.000000</td>\n",
       "    </tr>\n",
       "  </tbody>\n",
       "</table>\n"
      ],
      "text/plain": [
       "<pandas.io.formats.style.Styler at 0x195b9b9af10>"
      ]
     },
     "execution_count": 116,
     "metadata": {},
     "output_type": "execute_result"
    }
   ],
   "source": [
    "corr = df.corr()\n",
    "\n",
    "corr.style.background_gradient(cmap='BuGn')"
   ]
  },
  {
   "cell_type": "code",
   "execution_count": 73,
   "id": "c35061b6",
   "metadata": {},
   "outputs": [
    {
     "data": {
      "text/plain": [
       "array([[<AxesSubplot:title={'center':'fare_amount'}>,\n",
       "        <AxesSubplot:title={'center':'pickup_datetime'}>,\n",
       "        <AxesSubplot:title={'center':'pickup_longitude'}>,\n",
       "        <AxesSubplot:title={'center':'pickup_latitude'}>],\n",
       "       [<AxesSubplot:title={'center':'dropoff_longitude'}>,\n",
       "        <AxesSubplot:title={'center':'dropoff_latitude'}>,\n",
       "        <AxesSubplot:title={'center':'passenger_count'}>,\n",
       "        <AxesSubplot:title={'center':'Year'}>],\n",
       "       [<AxesSubplot:title={'center':'Month'}>,\n",
       "        <AxesSubplot:title={'center':'Day'}>,\n",
       "        <AxesSubplot:title={'center':'Day_of_Week_num'}>,\n",
       "        <AxesSubplot:title={'center':'Hour'}>],\n",
       "       [<AxesSubplot:title={'center':'Distance'}>, <AxesSubplot:>,\n",
       "        <AxesSubplot:>, <AxesSubplot:>]], dtype=object)"
      ]
     },
     "execution_count": 73,
     "metadata": {},
     "output_type": "execute_result"
    },
    {
     "data": {
      "image/png": "[encoded data removed]",
      "text/plain": [
       "<Figure size 1500x1000 with 16 Axes>"
      ]
     },
     "metadata": {},
     "output_type": "display_data"
    }
   ],
   "source": [
    "df.hist(bins=15, figsize=(15, 10))"
   ]
  },
  {
   "cell_type": "code",
   "execution_count": 117,
   "id": "49baa28b",
   "metadata": {},
   "outputs": [],
   "source": [
    "df.drop(['pickup_datetime','pickup_longitude','pickup_latitude','dropoff_longitude','dropoff_latitude','Day_of_Week'],axis=1,inplace=True)"
   ]
  },
  {
   "cell_type": "code",
   "execution_count": 118,
   "id": "3c11519f",
   "metadata": {},
   "outputs": [
    {
     "data": {
      "text/plain": [
       "fare_amount        float64\n",
       "passenger_count      int64\n",
       "Year                 int64\n",
       "Month                int64\n",
       "Day                  int64\n",
       "Day_of_Week_num      int64\n",
       "Hour                 int64\n",
       "Distance           float64\n",
       "dtype: object"
      ]
     },
     "execution_count": 118,
     "metadata": {},
     "output_type": "execute_result"
    }
   ],
   "source": [
    "df.dtypes"
   ]
  },
  {
   "cell_type": "code",
   "execution_count": 119,
   "id": "3475bb1e",
   "metadata": {},
   "outputs": [],
   "source": [
    "df.drop(df[df['Distance'] == 0].index, inplace = True)\n",
    "df.drop(df[df['fare_amount'] == 0].index, inplace = True)\n",
    "df.drop(df[df['fare_amount'] < 2.5].index, inplace = True)\n",
    "df.drop(df[df['Distance']>130].index,inplace=True)"
   ]
  },
  {
   "cell_type": "code",
   "execution_count": 120,
   "id": "f69c5d0b",
   "metadata": {},
   "outputs": [],
   "source": [
    "y = df['fare_amount'].values.reshape(-1, 1) \n",
    "x=df.drop(['fare_amount'],axis=1)"
   ]
  },
  {
   "cell_type": "code",
   "execution_count": 123,
   "id": "d0c44559",
   "metadata": {},
   "outputs": [],
   "source": [
    "vif = pd.DataFrame()\n",
    "\n",
    "vif[\"VIF Factor\"] = [variance_inflation_factor(x.values, i) for i in range(x.shape[1])]\n",
    "vif[\"features\"] = x.columns"
   ]
  },
  {
   "cell_type": "code",
   "execution_count": 124,
   "id": "be91cd37",
   "metadata": {},
   "outputs": [
    {
     "name": "stdout",
     "output_type": "stream",
     "text": [
      "   VIF Factor         features\n",
      "0    2.476440  passenger_count\n",
      "1   17.033535             Year\n",
      "2    4.334285            Month\n",
      "3    4.268968              Day\n",
      "4    3.484726  Day_of_Week_num\n",
      "5    5.330366             Hour\n",
      "6    1.723438         Distance\n"
     ]
    }
   ],
   "source": [
    "print(vif)"
   ]
  },
  {
   "cell_type": "code",
   "execution_count": 127,
   "id": "b26a79eb",
   "metadata": {},
   "outputs": [],
   "source": [
    "x1=x.drop(['Year'],axis=1)"
   ]
  },
  {
   "cell_type": "code",
   "execution_count": 128,
   "id": "83bacfbc",
   "metadata": {},
   "outputs": [],
   "source": [
    "vif = pd.DataFrame()\n",
    "\n",
    "vif[\"VIF Factor\"] = [variance_inflation_factor(x1.values, i) for i in range(x1.shape[1])]\n",
    "vif[\"features\"] = x1.columns"
   ]
  },
  {
   "cell_type": "code",
   "execution_count": 129,
   "id": "81f63221",
   "metadata": {},
   "outputs": [
    {
     "name": "stdout",
     "output_type": "stream",
     "text": [
      "   VIF Factor         features\n",
      "0    2.302009  passenger_count\n",
      "1    3.452836            Month\n",
      "2    3.443268              Day\n",
      "3    2.889188  Day_of_Week_num\n",
      "4    3.794681             Hour\n",
      "5    1.648064         Distance\n"
     ]
    }
   ],
   "source": [
    "print(vif)"
   ]
  },
  {
   "cell_type": "code",
   "execution_count": 131,
   "id": "e3b01d81",
   "metadata": {},
   "outputs": [],
   "source": [
    "std = StandardScaler()\n",
    "y_std = std.fit_transform(y)\n",
    "x_std = std.fit_transform(x1)"
   ]
  },
  {
   "cell_type": "code",
   "execution_count": 133,
   "id": "22004a37",
   "metadata": {},
   "outputs": [],
   "source": [
    "X_train, X_test, y_train, y_test = train_test_split(x_std, y_std, test_size = 0.3, random_state = 42)"
   ]
  },
  {
   "cell_type": "code",
   "execution_count": 134,
   "id": "adb332a3",
   "metadata": {},
   "outputs": [
    {
     "data": {
      "text/plain": [
       "LinearRegression()"
      ]
     },
     "execution_count": 134,
     "metadata": {},
     "output_type": "execute_result"
    }
   ],
   "source": [
    "#LOGISTIC REGRESSION\n",
    "model_lr = LinearRegression()\n",
    "model_lr.fit(X_train,y_train)"
   ]
  },
  {
   "cell_type": "code",
   "execution_count": 135,
   "id": "1b6756f7",
   "metadata": {},
   "outputs": [],
   "source": [
    "y_pred = model_lr.predict(X_test)"
   ]
  },
  {
   "cell_type": "code",
   "execution_count": 136,
   "id": "457732a1",
   "metadata": {},
   "outputs": [
    {
     "name": "stdout",
     "output_type": "stream",
     "text": [
      "Training set score: 0.60\n",
      "Test set score: 0.6910427\n"
     ]
    }
   ],
   "source": [
    "print(\"Training set score: {:.2f}\".format(model_lr.score(X_train, y_train)))\n",
    "print(\"Test set score: {:.7f}\".format(model_lr.score(X_test, y_test)))"
   ]
  },
  {
   "cell_type": "code",
   "execution_count": 137,
   "id": "41d6628e",
   "metadata": {},
   "outputs": [],
   "source": [
    "MAE_lr= metrics.mean_absolute_error(y_test, y_pred)\n",
    "MSE_lr= metrics.mean_squared_error(y_test, y_pred)\n",
    "RMSE_lr= np.sqrt(metrics.mean_squared_error(y_test, y_pred))\n",
    "r2_lr=r2_score(y_test, y_pred)\n",
    "Adj_r2_lr=1-(1-r2_score(y_test, y_pred))*((len(X_test)-1)/(len(X_test)-len(X_test[0])-1))"
   ]
  },
  {
   "cell_type": "code",
   "execution_count": 138,
   "id": "f00bba82",
   "metadata": {},
   "outputs": [
    {
     "name": "stdout",
     "output_type": "stream",
     "text": [
      "Mean absolute error of linear regression 0.2740106595872346\n",
      "Mean square  error of linear regression 0.3030002500930504\n",
      "root Mean square error of linear regression 0.5504545849505211\n",
      "r2 score of linear regression 0.6910426889628902\n",
      "adjusted r2 of linear regression 0.691010817979701\n"
     ]
    }
   ],
   "source": [
    "print('Mean absolute error of linear regression',MAE_lr)\n",
    "print('Mean square  error of linear regression',MSE_lr)\n",
    "print('root Mean square error of linear regression',RMSE_lr)\n",
    "print('r2 score of linear regression',r2_lr)\n",
    "print('adjusted r2 of linear regression',Adj_r2_lr)"
   ]
  },
  {
   "cell_type": "code",
   "execution_count": 139,
   "id": "15dc3775",
   "metadata": {},
   "outputs": [
    {
     "data": {
      "text/plain": [
       "RandomForestRegressor()"
      ]
     },
     "execution_count": 139,
     "metadata": {},
     "output_type": "execute_result"
    }
   ],
   "source": [
    "\n",
    "rf_reg = RandomForestRegressor()\n",
    "rf_reg.fit(X_train,y_train)"
   ]
  },
  {
   "cell_type": "code",
   "execution_count": 140,
   "id": "580fef88",
   "metadata": {},
   "outputs": [],
   "source": [
    "y_pred_rf = rf_reg.predict(X_test)"
   ]
  },
  {
   "cell_type": "code",
   "execution_count": 141,
   "id": "4b4710b0",
   "metadata": {},
   "outputs": [],
   "source": [
    "MAE_rf= metrics.mean_absolute_error(y_test, y_pred_rf)\n",
    "MSE_rf= metrics.mean_squared_error(y_test, y_pred_rf)\n",
    "RMSE_rf= np.sqrt(metrics.mean_squared_error(y_test, y_pred_rf))\n",
    "r2_rf=r2_score(y_test, y_pred_rf)\n",
    "Adj_r2_rf=1-(1-r2_score(y_test, y_pred_rf))*((len(X_test)-1)/(len(X_test)-len(X_test[0])-1))"
   ]
  },
  {
   "cell_type": "code",
   "execution_count": 142,
   "id": "8e914ce5",
   "metadata": {},
   "outputs": [
    {
     "name": "stdout",
     "output_type": "stream",
     "text": [
      "Mean absolute error of random forest regression 0.2444698266378203\n",
      "Mean square  error of random forest regression 0.22033817447798673\n",
      "root Mean square error of random forest regression 0.46940193275910863\n",
      "r2 score of random forest regression 0.7753299217256795\n",
      "adjusted r2 of random forest regression 0.7753067455261463\n"
     ]
    }
   ],
   "source": [
    "print('Mean absolute error of random forest regression',MAE_rf)\n",
    "print('Mean square  error of random forest regression',MSE_rf)\n",
    "print('root Mean square error of random forest regression',RMSE_rf)\n",
    "print('r2 score of random forest regression',r2_rf)\n",
    "print('adjusted r2 of random forest regression',Adj_r2_rf)"
   ]
  },
  {
   "cell_type": "code",
   "execution_count": 143,
   "id": "91422793",
   "metadata": {},
   "outputs": [],
   "source": [
    "reg = GradientBoostingRegressor()\n",
    "clf=reg.fit(X_train, y_train)\n",
    "y_pred_gbr= reg.predict(X_test)"
   ]
  },
  {
   "cell_type": "code",
   "execution_count": 144,
   "id": "7eda5963",
   "metadata": {},
   "outputs": [],
   "source": [
    "MSE_gbr=metrics.mean_squared_error(y_test, reg.predict(X_test))\n",
    "r2_gbr=r2_score(y_test, y_pred_gbr)\n",
    "RMSE_gbr=np.sqrt(metrics.mean_squared_error(y_test, y_pred_gbr))\n",
    "MAE_gbr=metrics.mean_absolute_error(y_test, y_pred_gbr)\n",
    "Adj_r2_gbr=1-(1-r2_score(y_test, y_pred_gbr))*((len(X_test)-1)/(len(X_test)-len(X_test[0])-1))"
   ]
  },
  {
   "cell_type": "code",
   "execution_count": 145,
   "id": "5a2f2896",
   "metadata": {},
   "outputs": [
    {
     "name": "stdout",
     "output_type": "stream",
     "text": [
      "Mean absolute error of gradient boost  regression 0.22986205114457883\n",
      "Mean square  error of gradient boost regression 0.20241681150228366\n",
      "root Mean square error of gradient boost regression 0.4499075588410175\n",
      "r2 score of gradient boost regression 0.7936036231942192\n",
      "adjusted r2 of gradient boost regression 0.7935823320474473\n"
     ]
    }
   ],
   "source": [
    "print('Mean absolute error of gradient boost  regression',MAE_gbr)\n",
    "print('Mean square  error of gradient boost regression',MSE_gbr)\n",
    "print('root Mean square error of gradient boost regression',RMSE_gbr)\n",
    "print('r2 score of gradient boost regression',r2_gbr)\n",
    "print('adjusted r2 of gradient boost regression',Adj_r2_gbr)"
   ]
  },
  {
   "cell_type": "code",
   "execution_count": 146,
   "id": "6b7cdcbf",
   "metadata": {},
   "outputs": [],
   "source": [
    "cols = ['Model', 'RMSE', 'R2_score','MAE','ADJ_r']\n",
    "\n",
    "# create a empty dataframe of the colums\n",
    "# columns: specifies the columns to be selected\n",
    "result_tabulation = pd.DataFrame(columns = cols)"
   ]
  },
  {
   "cell_type": "code",
   "execution_count": 147,
   "id": "fc1db3d0",
   "metadata": {},
   "outputs": [],
   "source": [
    "full_metrics = pd.Series({'Model': \"Linear Regression\", 'RMSE' : RMSE_lr, 'R2_score' : r2_lr,'MAE':MAE_lr,'ADJ_r':Adj_r2_lr})\n"
   ]
  },
  {
   "cell_type": "code",
   "execution_count": 148,
   "id": "e7fd7852",
   "metadata": {},
   "outputs": [],
   "source": [
    "result_tabulation = result_tabulation.append(full_metrics, ignore_index = True)"
   ]
  },
  {
   "cell_type": "code",
   "execution_count": 149,
   "id": "ff80e7da",
   "metadata": {},
   "outputs": [],
   "source": [
    "full_metrics = pd.Series({'Model': \"Random Forest \", 'RMSE':RMSE_rf, 'R2_score': r2_rf,'MAE':MAE_rf,'ADJ_r':Adj_r2_rf})"
   ]
  },
  {
   "cell_type": "code",
   "execution_count": 150,
   "id": "4fb95f36",
   "metadata": {},
   "outputs": [],
   "source": [
    "result_tabulation = result_tabulation.append(full_metrics, ignore_index = True)"
   ]
  },
  {
   "cell_type": "code",
   "execution_count": 151,
   "id": "98f9bb67",
   "metadata": {},
   "outputs": [],
   "source": [
    "full_metrics = pd.Series({'Model': \"gradient boost regressor\", 'RMSE':RMSE_gbr, 'R2_score': r2_gbr,'MAE':MAE_gbr,'ADJ_r':Adj_r2_gbr})"
   ]
  },
  {
   "cell_type": "code",
   "execution_count": 152,
   "id": "2e8f677f",
   "metadata": {},
   "outputs": [],
   "source": [
    "result_tabulation = result_tabulation.append(full_metrics, ignore_index = True)"
   ]
  },
  {
   "cell_type": "code",
   "execution_count": 153,
   "id": "80fdbb31",
   "metadata": {},
   "outputs": [
    {
     "data": {
      "text/html": [
       "<div>\n",
       "<style scoped>\n",
       "    .dataframe tbody tr th:only-of-type {\n",
       "        vertical-align: middle;\n",
       "    }\n",
       "\n",
       "    .dataframe tbody tr th {\n",
       "        vertical-align: top;\n",
       "    }\n",
       "\n",
       "    .dataframe thead th {\n",
       "        text-align: right;\n",
       "    }\n",
       "</style>\n",
       "<table border=\"1\" class=\"dataframe\">\n",
       "  <thead>\n",
       "    <tr style=\"text-align: right;\">\n",
       "      <th></th>\n",
       "      <th>Model</th>\n",
       "      <th>RMSE</th>\n",
       "      <th>R2_score</th>\n",
       "      <th>MAE</th>\n",
       "      <th>ADJ_r</th>\n",
       "    </tr>\n",
       "  </thead>\n",
       "  <tbody>\n",
       "    <tr>\n",
       "      <th>0</th>\n",
       "      <td>Linear Regression</td>\n",
       "      <td>0.550455</td>\n",
       "      <td>0.691043</td>\n",
       "      <td>0.274011</td>\n",
       "      <td>0.691011</td>\n",
       "    </tr>\n",
       "    <tr>\n",
       "      <th>1</th>\n",
       "      <td>Random Forest</td>\n",
       "      <td>0.469402</td>\n",
       "      <td>0.775330</td>\n",
       "      <td>0.244470</td>\n",
       "      <td>0.775307</td>\n",
       "    </tr>\n",
       "    <tr>\n",
       "      <th>2</th>\n",
       "      <td>gradient boost regressor</td>\n",
       "      <td>0.449908</td>\n",
       "      <td>0.793604</td>\n",
       "      <td>0.229862</td>\n",
       "      <td>0.793582</td>\n",
       "    </tr>\n",
       "  </tbody>\n",
       "</table>\n",
       "</div>"
      ],
      "text/plain": [
       "                      Model      RMSE  R2_score       MAE     ADJ_r\n",
       "0         Linear Regression  0.550455  0.691043  0.274011  0.691011\n",
       "1            Random Forest   0.469402  0.775330  0.244470  0.775307\n",
       "2  gradient boost regressor  0.449908  0.793604  0.229862  0.793582"
      ]
     },
     "execution_count": 153,
     "metadata": {},
     "output_type": "execute_result"
    }
   ],
   "source": [
    "result_tabulation\n"
   ]
  },
  {
   "cell_type": "markdown",
   "id": "b4bc40df",
   "metadata": {},
   "source": [
    "Evaluation metrics for regression\n",
    "#rmse near to 0 is good #The lower value of MAE, MSE, and RMSE implies higher accuracy of a regression model. However, a higher value of R square is considered desirable. #For comparing the accuracy among different linear regression models, RMSE is a better choice than R Squared.\n",
    "\n",
    "Expert tip #1: MAE is lower limit of RMSE. RMSE should always be higher than or equal to MAE. Expert tip #2: If your RMSE is much higher than your MAE, it (loosely) means your error variance is high. It could mean that you probably have outliers in your data. Expert tip #3: As a rule of thumb RMSE should be less than equal to MAE multiplied by root of number of samples. In a special case when RMSE is equal to that value it means there is possibly one big outlier in your data or the entire error is concentrated in one prediction. Expert tip #4: As the sample size increases the difference in RMSE and MAE widens. Keep this in mind when you think about tip #2 above.\n",
    "\n",
    "Expert tip #1: If use case permits, don’t outright reject the model with lower R-Squared. Sometimes a lower R-squared model can be a good model for several other reasons, for example model might have high R-squared and be highly biased. If you have a low R-squared value but the independent variables are statistically significant, you can still draw important conclusions about the relationships between the variables. Expert tip #2: An overfitted model will have inflated R-Squared. Check for overfits, before accepting the model just on the bases of R-Squared.\n",
    "\n",
    "Expert tip #1: Never use MAPE to provide a sense of model accuracy. Understand it as average percentage error and use it to compare different models built on the same data. Expert tip #2: Be extremely careful in using MAPE if data has small observations.\n",
    "\n",
    "ADVANTAGES OF MAE: -The MAE you get is in the same unit as the output variable. -It is most Robust to outliers. Disadvantages of MAE -The graph of MAE is not differentiable so we have to apply various optimizers like Gradient descent which can be differentiable\n",
    "\n",
    "ADVANTAGES OF MSE: -The graph of MSE is differentiable, so you can easily use it as a loss function.\n",
    "\n",
    "Disadvantages of MSE -The value you get after calculating MSE is a squared unit of output. for example, the output variable is in meter(m) then after calculating MSE the output we get is in meter squared. -If you have outliers in the dataset then it penalizes the outliers most and the calculated MSE is bigger. So, in short, It is not Robust to outliers which were an advantage in MAE.\n",
    "\n",
    "Advantages of RMSE -The output value you get is in the same unit as the required output variable which makes interpretation of loss easy. Disadvantages of RMSE -It is not that robust to outliers as compared to MAE. for performing RMSE we have to NumPy NumPy square root function over MSE.\n",
    "\n",
    "There is not anyone metric that always performs well and helps to build the generalized model.\n",
    "\n",
    "There can be situations where you have to use different evaluation metrics and if you are a beginner then you should try all these metrics which will help you to get a better understanding of each to evaluate when you can use which metric."
   ]
  }
 ],
 "metadata": {
  "kernelspec": {
   "display_name": "Python 3 (ipykernel)",
   "language": "python",
   "name": "python3"
  },
  "language_info": {
   "codemirror_mode": {
    "name": "ipython",
    "version": 3
   },
   "file_extension": ".py",
   "mimetype": "text/x-python",
   "name": "python",
   "nbconvert_exporter": "python",
   "pygments_lexer": "ipython3",
   "version": "3.9.13"
  }
 },
 "nbformat": 4,
 "nbformat_minor": 5
}
